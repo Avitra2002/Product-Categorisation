{
 "cells": [
  {
   "cell_type": "code",
   "execution_count": null,
   "metadata": {},
   "outputs": [],
   "source": [
    "import pandas as pd\n",
    "import json\n",
    "####CORRECT ONE\n",
    "# Read CSV file with header\n",
    "df = pd.read_csv(\"/Users/phonavitra/Desktop/term 5/Service Studio/Product_Gemini training_inputoutput.csv\")\n",
    "\n",
    "# Convert DataFrame to list of dictionaries (records)\n",
    "data_records = df.to_dict(orient='records')\n",
    "\n",
    "target_classes = [\n",
    "    \"Debit Cards\", \"Credit Cards\", \"Personal Loan\", \"Cashline\", \"Education Loan(Tuition Fee Loan)\",\n",
    "    \"Renovation Loan\", \"Mortgage Loan\", \"Car/Auto Loan\", \"DigiBank App\", \"Internet Banking\", \"Paylah!\",\n",
    "    \"Vickers\", \"Unit-Trust\", \"Non-Unit Trust / Equities\", \"digiPortfolio\", \"Treasures Relationship Manager(RM)\",\n",
    "    \"SSB\", \"VTM\", \"Phone Banking\", \"Coin Deposit Machine\", \"General Insurance\", \"Life Insurance\", \"Payments\",\n",
    "    \"DBS Deposit Account\", \"Paynow\", \"Cheque\", \"GIRO\", \"digiVault\", \"DBS Hotline\", \"Branches/Staff\",\n",
    "    \"Overseas Transfer\", \"Others\", \"DBS Wealth Planning Manager\"\n",
    "]\n",
    "\n",
    "# System message template\n",
    "system_message_template = f\"You should classify the text into one of the following classes: {', '.join(target_classes)}\"\n",
    "\n",
    "# Transform function\n",
    "def transform_to_jsonl(data, system_message_template):\n",
    "    transformed_data = []\n",
    "    \n",
    "    for entry in data:\n",
    "        # Ensure \"Input\" and \"Output\" keys exist in the entry\n",
    "        if \"Input\" in entry and \"Output\" in entry:\n",
    "            message = {\n",
    "                \"messages\": [\n",
    "                    {\"role\": \"system\", \"content\": system_message_template},\n",
    "                    {\"role\": \"user\", \"content\": entry[\"Input\"]},\n",
    "                    {\"role\": \"model\", \"content\": entry[\"Output\"]}\n",
    "                ]\n",
    "            }\n",
    "            transformed_data.append(message)\n",
    "        else:\n",
    "            print(f\"Missing required fields in entry: {entry}\")\n",
    "    \n",
    "    return transformed_data\n",
    "\n",
    "# Transform the data\n",
    "transformed_data = transform_to_jsonl(data_records, system_message_template)\n",
    "\n",
    "# Write all rows to a single JSON Lines file\n",
    "with open(\"/Users/phonavitra/Desktop/term 5/Service Studio/Gemini Model Fine Tuning/Products_Message_Classification.jsonl\", \"w\") as file_handle:\n",
    "    for record in transformed_data:\n",
    "        file_handle.write(json.dumps(record) + '\\n')\n",
    "\n",
    "print(\"Conversion completed.\")"
   ]
  }
 ],
 "metadata": {
  "language_info": {
   "name": "python"
  }
 },
 "nbformat": 4,
 "nbformat_minor": 2
}
