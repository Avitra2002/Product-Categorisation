{
 "cells": [
  {
   "cell_type": "code",
   "execution_count": 22,
   "metadata": {},
   "outputs": [],
   "source": [
    "PROJECT_ID = \"jbaaam\"  # @param {type:\"string\"}\n",
    "LOCATION = \"asia-southeast1\"  # @param {type:\"string\"}\n",
    "\n",
    "BUCKET_NAME = \"jbaaam_cloudbuild\"  # @param {type:\"string\"}\n",
    "BUCKET_URI = f\"gs://{BUCKET_NAME}\""
   ]
  },
  {
   "cell_type": "code",
   "execution_count": 39,
   "metadata": {},
   "outputs": [],
   "source": [
    "import vertexai\n",
    "import google.generativeai as genai\n",
    "from google.cloud import aiplatform\n",
    "\n",
    "project_id = 'jbaaam'\n",
    "location = 'asia-southeast1'\n",
    "\n",
    "vertexai.init(project=project_id, location=location)\n",
    "aiplatform.init(project=project_id, location=location)"
   ]
  },
  {
   "cell_type": "code",
   "execution_count": 23,
   "metadata": {},
   "outputs": [],
   "source": [
    "import google.generativeai as genai"
   ]
  },
  {
   "cell_type": "code",
   "execution_count": 29,
   "metadata": {},
   "outputs": [
    {
     "name": "stdout",
     "output_type": "stream",
     "text": [
      "Model Name: projects/903333611831/locations/asia-southeast1/models/1610978048738328576\n",
      "Model Display Name: product1\n"
     ]
    }
   ],
   "source": [
    "from google.cloud import aiplatform\n",
    "\n",
    "aiplatform.init(project='jbaaam', location='asia-southeast1')\n",
    "\n",
    "models = aiplatform.Model.list()\n",
    "\n",
    "for model in models:\n",
    "    print(f\"Model Name: {model.resource_name}\")\n",
    "    print(f\"Model Display Name: {model.display_name}\")\n",
    "\n",
    "# Initialize the client\n",
    "# client = aiplatform.gapic.ModelServiceClient()\n",
    "\n",
    "# model_name = 'tunedModels/product-2536' \n",
    "# model = client.get_tuned_model(name=model_name)\n",
    "\n",
    "\n",
    "# model"
   ]
  },
  {
   "cell_type": "code",
   "execution_count": 40,
   "metadata": {},
   "outputs": [
    {
     "name": "stdout",
     "output_type": "stream",
     "text": [
      "Error retrieving the tuned model: 403 Request had insufficient authentication scopes. [reason: \"ACCESS_TOKEN_SCOPE_INSUFFICIENT\"\n",
      "domain: \"googleapis.com\"\n",
      "metadata {\n",
      "  key: \"service\"\n",
      "  value: \"generativelanguage.googleapis.com\"\n",
      "}\n",
      "metadata {\n",
      "  key: \"method\"\n",
      "  value: \"google.ai.generativelanguage.v1beta.ModelService.GetTunedModel\"\n",
      "}\n",
      "]\n"
     ]
    }
   ],
   "source": [
    "name = 'product-9509'\n",
    "try:\n",
    "    model = genai.get_tuned_model(f'tunedModels/{name}')\n",
    "    print(\"Tuned model:\", model)\n",
    "except Exception as e:\n",
    "    print(\"Error retrieving the tuned model:\", e)\n"
   ]
  },
  {
   "cell_type": "code",
   "execution_count": null,
   "metadata": {},
   "outputs": [],
   "source": []
  }
 ],
 "metadata": {
  "kernelspec": {
   "display_name": "base",
   "language": "python",
   "name": "python3"
  },
  "language_info": {
   "codemirror_mode": {
    "name": "ipython",
    "version": 3
   },
   "file_extension": ".py",
   "mimetype": "text/x-python",
   "name": "python",
   "nbconvert_exporter": "python",
   "pygments_lexer": "ipython3",
   "version": "3.9.18"
  }
 },
 "nbformat": 4,
 "nbformat_minor": 2
}
