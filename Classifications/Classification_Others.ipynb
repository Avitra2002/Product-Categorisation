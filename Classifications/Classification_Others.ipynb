{
 "cells": [
  {
   "cell_type": "code",
   "execution_count": null,
   "metadata": {},
   "outputs": [],
   "source": [
    "##Classification for undefined products\n",
    "from Gemini_Models import classify_subcategory\n",
    "\n",
    "##dictionary to map from subproducts to products\n",
    "\n",
    "def classification_undefined_products(df):\n",
    "    product_dict = {\n",
    "        \"Cards\": [\"Debit Card\", \"Credit Card\"],\n",
    "        \"Unsecured Loans\": [\"Cashline\", \"Personal Loan\", \"Renovation Loan\", \"Education Loan\"],\n",
    "        \"Secured Loans\": [\"Car Loan\", \"Mortgage/Home Loan\"],\n",
    "        \"Digital Channels\": [\"DigiBank App\", \"Internet Banking(iBanking)\", \"Paylah!\"],\n",
    "        \"Investments\": [\"digiPortfolio\", \"Non-Unit Trust/Equities\", \"Unit Trust\", \"Vickers\"],\n",
    "        \"DBS Treasures\": [\"Treasures Relationship Manager(RM)\", \"DBS Wealth Planning Manager\", \"DBS Treasures (General)\"],\n",
    "        \"Self-Service Banking\": [\"SSB\", \"VTM(Video Teller Machine)\", \"Phone Banking\", \"Coin Deposit Machine\"],\n",
    "        \"Insurance\": [\"General Insurance\", \"Life Insurance\"],\n",
    "        \"Deposits\": [\"DBS Deposit Account\", \"Payments\", \"PayNow\", \"Cheque\", \"GIRO\", \"digiVault\"],\n",
    "        \"Contact Center\": [\"DBS Hotline\", \"DBS Branches/Staff\"],\n",
    "        \"Webpages\": [\"Websites\"],\n",
    "        \"Remittance\": [\"Overseas Transfer\"],\n",
    "        \"Others\": [\"Others\"]\n",
    "    }\n",
    "\n",
    "    ##classify into subproducts\n",
    "    df['Subcategory'] = df['Feedback'].apply(classify_subcategory)\n",
    "\n",
    "    ## link subproducts to products\n",
    "    def match_product(subcategory):\n",
    "        for product, subproducts in product_dict.items():\n",
    "            if subcategory in subproducts:\n",
    "                return product\n",
    "        return 'Others'  # Return None if subcategory doesn't match any product\n",
    "    \n",
    "    df['Product'] = df['Subcategory'].apply(match_product)\n",
    "\n",
    "    ####categorise into feedback sentiment\n",
    "\n",
    "\n",
    "    ## categorise sentiment and score\n",
    "\n",
    "    return df\n",
    "\n",
    "\n",
    "\n",
    "\n",
    "\n",
    "\n"
   ]
  }
 ],
 "metadata": {
  "language_info": {
   "name": "python"
  }
 },
 "nbformat": 4,
 "nbformat_minor": 2
}
