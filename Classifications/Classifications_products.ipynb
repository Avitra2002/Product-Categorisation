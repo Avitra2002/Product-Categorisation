{
 "cells": [
  {
   "cell_type": "code",
   "execution_count": null,
   "metadata": {},
   "outputs": [],
   "source": [
    "##Classification Pipleline for defined products\n",
    "from Gemini_Models import classify_subcategory\n",
    "\n",
    "def classification_defined_products(df):\n",
    "\n",
    "    ##categorise into subproducts\n",
    "    df['Subcategory'] = df['Feedback'].apply(classify_subcategory)\n",
    "\n",
    "    ##categorise into feedback sentiment\n",
    "\n",
    "\n",
    "    ## categorise sentiment and score\n",
    "\n",
    "    return df\n"
   ]
  }
 ],
 "metadata": {
  "language_info": {
   "name": "python"
  }
 },
 "nbformat": 4,
 "nbformat_minor": 2
}
