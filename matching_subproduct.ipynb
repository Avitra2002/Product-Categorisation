{
 "cells": [
  {
   "cell_type": "code",
   "execution_count": 7,
   "metadata": {},
   "outputs": [
    {
     "name": "stdout",
     "output_type": "stream",
     "text": [
      "Matched Subcategory: Non-Unit Trust/Equities\n",
      "Matched Subcategory: Internet Banking(iBanking)\n",
      "Matched Subcategory: Overseas Transfer\n",
      "Matched Subcategory: digiVault\n"
     ]
    }
   ],
   "source": [
    "from fuzzywuzzy import process\n",
    "\n",
    "product_dict = {\n",
    "    \"Cards\": [\"Debit Card\", \"Credit Card\"],\n",
    "    \"Unsecured Loans\": [\"Cashline\", \"Personal Loan\", \"Renovation Loan\", \"Education Loan\"],\n",
    "    \"Secured Loans\": [\"Car Loan\", \"Mortgage/Home Loan\"],\n",
    "    \"Digital Channels\": [\"DigiBank App\", \"Internet Banking(iBanking)\", \"Paylah!\"],\n",
    "    \"Investments\": [\"digiPortfolio\", \"Non-Unit Trust/Equities\", \"Unit Trust\", \"Vickers\"],\n",
    "    \"DBS Treasures\": [\"Treasures Relationship Manager(RM)\", \"DBS Wealth Planning Manager\", \"DBS Treasures (General)\"],\n",
    "    \"Self-Service Banking\": [\"SSB\", \"VTM(Video Teller Machine)\", \"Phone Banking\", \"Coin Deposit Machine\",\"SSB (Self-Service Banking)\"],\n",
    "    \"Insurance\": [\"General Insurance\", \"Life Insurance\"],\n",
    "    \"Deposits\": [\"DBS Deposit Account\", \"Payments\", \"PayNow\", \"Cheque\", \"GIRO\", \"digiVault\", \"Paynow\"],\n",
    "    \"Contact Center\": [\"DBS Hotline\", \"DBS Branches/Staff\",\"Contact Center\"],\n",
    "    \"Webpages\": [\"Websites\"],\n",
    "    \"Remittance\": [\"Overseas Transfer\"],\n",
    "    \"Others\": [\"Others\"]\n",
    "}\n",
    "\n",
    "def find_best_match(subproduct_input, product_dict):\n",
    "    # Flatten the dictionary to a list of possible subcategories\n",
    "    all_subcategories = [subcat for categories in product_dict.values() for subcat in categories]\n",
    "\n",
    "    # Find the closest match in the flattened list\n",
    "    best_match, score = process.extractOne(subproduct_input, all_subcategories)\n",
    "\n",
    "    # Optionally, you can set a threshold for the score to decide if the match is good enough\n",
    "    if score > 60:  # 80 is just an example threshold, adjust based on your needs\n",
    "        return best_match\n",
    "    else:\n",
    "        return None  # or return subproduct_input if you want to use the input as is when no good match is found\n",
    "\n",
    "# Example usage\n",
    "input_subproduct = \"Equities\"\n",
    "matched_subcategory = find_best_match(input_subproduct, product_dict)\n",
    "print(\"Matched Subcategory:\", matched_subcategory)\n",
    "\n",
    "input_subproduct = \"iBanking\"\n",
    "matched_subcategory = find_best_match(input_subproduct, product_dict)\n",
    "print(\"Matched Subcategory:\", matched_subcategory)\n",
    "\n",
    "input_subproduct = \"International transfer\"\n",
    "matched_subcategory = find_best_match(input_subproduct, product_dict)\n",
    "print(\"Matched Subcategory:\", matched_subcategory)\n",
    "\n",
    "input_subproduct = \"Digivault\"\n",
    "matched_subcategory = find_best_match(input_subproduct, product_dict)\n",
    "print(\"Matched Subcategory:\", matched_subcategory)\n"
   ]
  },
  {
   "cell_type": "code",
   "execution_count": null,
   "metadata": {},
   "outputs": [],
   "source": []
  }
 ],
 "metadata": {
  "kernelspec": {
   "display_name": "base",
   "language": "python",
   "name": "python3"
  },
  "language_info": {
   "codemirror_mode": {
    "name": "ipython",
    "version": 3
   },
   "file_extension": ".py",
   "mimetype": "text/x-python",
   "name": "python",
   "nbconvert_exporter": "python",
   "pygments_lexer": "ipython3",
   "version": "3.9.18"
  }
 },
 "nbformat": 4,
 "nbformat_minor": 2
}
