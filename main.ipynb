{
 "cells": [
  {
   "cell_type": "code",
   "execution_count": null,
   "metadata": {},
   "outputs": [],
   "source": [
    "\n",
    "def parse_filename(filename):\n",
    "    # Split the filename using the double underscore separator\n",
    "    parts = filename.split('__')\n",
    "    \n",
    "    # Check if the filename is in the correct format\n",
    "    if len(parts) < 3:\n",
    "        raise ValueError(\"Filename format is incorrect. Expected format: 'product__source__fname'\")\n",
    "    \n",
    "    # Extract the product and source values\n",
    "    product = parts[0]\n",
    "    source = parts[1]\n",
    "    \n",
    "    return product, source\n",
    "\n",
    "##TODO: Get latest files from bucket\n",
    "filename = \"product1__sourceA__datafile.txt\"\n",
    "product, source = parse_filename(filename)"
   ]
  },
  {
   "cell_type": "code",
   "execution_count": null,
   "metadata": {},
   "outputs": [],
   "source": [
    "# Cloud Function entry point\n",
    "import os\n",
    "from . import access_secret_version, download_file_from_bucket, execute_postgres_query\n",
    "def process_data(event, context):\n",
    "    # Replace with your project ID\n",
    "    project_id = '903333611831'\n",
    "    \n",
    "    db_user_secret_id = 'DB_USER'\n",
    "    db_password_secret_id = 'DB_PASS'\n",
    "    storage_bucket_name = 'jbaaam_upload'\n",
    "    \n",
    "    # Retrieve secrets\n",
    "    db_user = access_secret_version(db_user_secret_id, project_id)\n",
    "    db_password = access_secret_version(db_password_secret_id, project_id)\n",
    "\n",
    "    ##Get info from trigger in bucket\n",
    "    bucket_name = event['bucket']\n",
    "    file_name = event['name']\n",
    "    \n",
    "    # Download the file from Google Cloud Storage\n",
    "    local_file_path = download_file_from_bucket(storage_bucket_name, file_name)\n",
    "    \n",
    "    \n",
    "    # Process and classify data based on source\n",
    "    with open(local_file_path, 'r') as file:\n",
    "        for line in file:\n",
    "            # Process each line or perform required operations\n",
    "            \n",
    "\n",
    "\n",
    "\n",
    "\n",
    "\n",
    "\n",
    "            # Insert processed data into PostgreSQL\n",
    "            query = f\"INSERT INTO your_table (column1, column2) VALUES ('value1', 'value2')\"\n",
    "            execute_postgres_query(db_user, db_password, 'your_db_name', 'your_db_host', query)\n",
    "    \n",
    "    # Delete the temporary file\n",
    "    os.remove(local_file_path)\n",
    "\n",
    "    return \"Data processing and storage complete\""
   ]
  }
 ],
 "metadata": {
  "language_info": {
   "name": "python"
  }
 },
 "nbformat": 4,
 "nbformat_minor": 2
}
