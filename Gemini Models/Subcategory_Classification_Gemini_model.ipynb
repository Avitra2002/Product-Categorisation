{
 "cells": [
  {
   "cell_type": "code",
   "execution_count": null,
   "metadata": {},
   "outputs": [],
   "source": [
    "# pip install --upgrade google-cloud-aiplatform\n",
    "# gcloud auth application-default login"
   ]
  },
  {
   "cell_type": "code",
   "execution_count": 12,
   "metadata": {},
   "outputs": [
    {
     "name": "stdout",
     "output_type": "stream",
     "text": [
      "Classification complete. Results saved to 'feedback_with_subcategories.csv'.\n"
     ]
    }
   ],
   "source": [
    "import base64\n",
    "import vertexai\n",
    "from vertexai.generative_models import GenerativeModel, Part\n",
    "import vertexai.preview.generative_models as generative_models\n",
    "import pandas as pd\n",
    "\n",
    "# Function to classify feedback text\n",
    "def classify_feedback(text):\n",
    "    model = GenerativeModel(\n",
    "        \"projects/903333611831/locations/asia-southeast1/endpoints/6000136107843387392\",\n",
    "        system_instruction=textsi_1\n",
    "    )\n",
    "    chat = model.start_chat(response_validation=False)\n",
    "    response = chat.send_message(\n",
    "        text,\n",
    "        generation_config=generation_config,\n",
    "        safety_settings=safety_settings\n",
    "    )\n",
    "    return response.text\n",
    "\n",
    "# Initialize Vertex AI\n",
    "vertexai.init(project=\"903333611831\", location=\"asia-southeast1\")\n",
    "\n",
    "# Configuration settings\n",
    "generation_config = {\n",
    "    \"max_output_tokens\": 2048,\n",
    "    \"temperature\": 1,\n",
    "    \"top_p\": 1,\n",
    "}\n",
    "\n",
    "# generation_config = {\n",
    "#     \"max_output_tokens\": 2048,\n",
    "#     \"temperature\": 0.6,\n",
    "#     \"top_p\": 1,\n",
    "# }\n",
    "\n",
    "safety_settings = {\n",
    "    generative_models.HarmCategory.HARM_CATEGORY_HATE_SPEECH: generative_models.HarmBlockThreshold.BLOCK_MEDIUM_AND_ABOVE,\n",
    "    generative_models.HarmCategory.HARM_CATEGORY_DANGEROUS_CONTENT: generative_models.HarmBlockThreshold.BLOCK_MEDIUM_AND_ABOVE,\n",
    "    generative_models.HarmCategory.HARM_CATEGORY_SEXUALLY_EXPLICIT: generative_models.HarmBlockThreshold.BLOCK_MEDIUM_AND_ABOVE,\n",
    "    generative_models.HarmCategory.HARM_CATEGORY_HARASSMENT: generative_models.HarmBlockThreshold.BLOCK_MEDIUM_AND_ABOVE,\n",
    "}\n",
    "\n",
    "textsi_1 = \"\"\"You are a system that helps to categorize customer feedback as input into product categories for a banking company. \n",
    "\n",
    "Classify the given text into one of the following categories: Debit Cards, Credit Cards, Personal Loan, Cashline, Education Loan (Tuition Fee Loan), Renovation Loan, Mortgage Loan, Car/Auto Loan, DigiBank App, Internet Banking, Paylah!, Vickers, Unit-Trust, Non-Unit Trust / Equities, digiPortfolio, Treasures Relationship Manager (RM), SSB, VTM, Phone Banking, Coin Deposit Machine, General Insurance, Life Insurance, Payments, DBS Deposit Account, Paynow, Cheque, GIRO, digiVault\", DBS Hotline, DBS Branches/Staff, Overseas Transfer, Contact Center, Others, DBS Wealth Planning Manager. \n",
    "\n",
    "<INSTRUCTIONS> \n",
    "1. If the text consists of a single word or is a general comment without detailed information about products (e.g., 'Well Done', 'good', 'nil', 'great', 'No Comment', 'Na', '-', '..'), classify it as \"Others\". \n",
    "2. If the text mentions talking to someone for help or waiting for a response, classify it as \"Contact Center\". \n",
    "3. If the text mentions 'account','interest rates', 'account opening', 'withdrawal', or 'deposit', classify it as \"DBS Deposit Account\". Provide only the category name as your answer. \n",
    "4. If the text mentions 'automated machines' or 'ATM', classify it as 'SSB' which is the full form for 'Self-Service Banking'\n",
    "5. If the text mentions 'digital banking' or 'app', classify it as 'DigiBank App'\n",
    "6. If the text mentions 'trading', classify it as \"Vickers\"\n",
    "\n",
    "Provide only the category name as your answer with no quotations.\n",
    "</INSTRUCTIONS> \n",
    "\n",
    "<EXAMPLES> \n",
    "<Input>Personally banking interest rates are not as attractive as other banks in Singapore.</Input> \n",
    "<Output>\"DBS Deposit Account\"</Output> \n",
    "<Reason>It talks about banking and its interest rates which are associated with account-related services.</Reason> \n",
    "\n",
    "<Input>nil</Input> \n",
    "<Output>\"Others\"</Output> \n",
    "<Reason>It is a general comment without detailed information about products.</Reason> \n",
    "\n",
    "<Input>Need help with my account</Input> \n",
    "<Output>\"Contact Center\"</Output> \n",
    "<Reason>It mentions needing help, indicating interaction with customer support.</Reason> \n",
    "\n",
    "<Input>The app is very poor and dated, even the pin entry keyboard is non standard and buggy. You should really be 100% native like the main banking app. I want a super simple view on how my stocks are performing % and $ based on the original purchase price. I find it really amazing that the only way to make such a fundamental view is with a custom made custom portfolio.</Input> \n",
    "<Output>\"Non-Unit Trust / Equities\"</Output> \n",
    "<Reason>It discusses the performance and management of stocks, which falls under non-unit trust investments.</Reason> \n",
    "</EXAMPLES>\"\"\"\n",
    "\n",
    "# Read the CSV file\n",
    "df = pd.read_csv('/Users/phonavitra/Desktop/term 5/Service Studio/Test/Model Test set.csv')\n",
    "\n",
    "# Classify each feedback and store the result in 'Subcategory' column\n",
    "df['Subcategory'] = df['Feedback'].apply(classify_feedback)\n",
    "\n",
    "# Write the updated DataFrame back to the CSV file\n",
    "df.to_csv('feedback_with_subcategories.csv', index=False)\n",
    "\n",
    "print(\"Classification complete. Results saved to 'feedback_with_subcategories.csv'.\")\n"
   ]
  },
  {
   "cell_type": "code",
   "execution_count": 13,
   "metadata": {},
   "outputs": [],
   "source": [
    "df.to_csv('/Users/phonavitra/Desktop/term 5/Service Studio/Test/Model Test Subcat.csv', index=False)"
   ]
  },
  {
   "cell_type": "code",
   "execution_count": null,
   "metadata": {},
   "outputs": [],
   "source": []
  }
 ],
 "metadata": {
  "kernelspec": {
   "display_name": "base",
   "language": "python",
   "name": "python3"
  },
  "language_info": {
   "codemirror_mode": {
    "name": "ipython",
    "version": 3
   },
   "file_extension": ".py",
   "mimetype": "text/x-python",
   "name": "python",
   "nbconvert_exporter": "python",
   "pygments_lexer": "ipython3",
   "version": "3.9.18"
  }
 },
 "nbformat": 4,
 "nbformat_minor": 2
}
