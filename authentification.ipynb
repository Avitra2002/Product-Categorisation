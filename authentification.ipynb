{
 "cells": [
  {
   "cell_type": "code",
   "execution_count": null,
   "metadata": {},
   "outputs": [],
   "source": [
    "from google.cloud import secretmanager_v1beta1\n",
    "from google.cloud import storage\n",
    "import psycopg2\n",
    "import os\n",
    "\n",
    "# Function to retrieve secret from Secret Manager\n",
    "def access_secret_version(secret_id, project_id):\n",
    "    client = secretmanager_v1beta1.SecretManagerServiceClient()\n",
    "    name = f\"projects/{project_id}/secrets/{secret_id}/versions/latest\"\n",
    "    response = client.access_secret_version(name=name)\n",
    "    return response.payload.data.decode(\"UTF-8\")\n",
    "\n",
    "# Function to download a file from Google Cloud Storage bucket\n",
    "def download_file_from_bucket(bucket_name, file_name):\n",
    "    storage_client = storage.Client()\n",
    "    bucket = storage_client.bucket(bucket_name)\n",
    "    blob = bucket.blob(file_name)\n",
    "    temp_local_file = f\"/tmp/{file_name}\"  # Use /tmp directory for temporary storage in Cloud Function\n",
    "\n",
    "    blob.download_to_filename(temp_local_file)\n",
    "    return temp_local_file\n",
    "\n",
    "# Function to connect to PostgreSQL and execute queries\n",
    "def execute_postgres_query(db_user, db_password, db_name, db_host, query):\n",
    "    conn = psycopg2.connect(\n",
    "        dbname=db_name,\n",
    "        user=db_user,\n",
    "        password=db_password,\n",
    "        host='/cloudsql/jbaaam:asia-southeast1:feedback'\n",
    "    )\n",
    "    cursor = conn.cursor()\n",
    "    cursor.execute(query)\n",
    "    conn.commit()\n",
    "    cursor.close()\n",
    "    conn.close()\n",
    "\n",
    "def execute_postgres_query(db_user, db_password, db_name, db_host, query):\n",
    "    conn = psycopg2.connect(\n",
    "        dbname=db_name,\n",
    "        user=db_user,\n",
    "        password=db_password,\n",
    "        host=db_host\n",
    "    )\n",
    "    cursor = conn.cursor()\n",
    "    cursor.execute(query)\n",
    "    conn.commit()\n",
    "    cursor.close()\n",
    "    conn.close()\n",
    "\n"
   ]
  }
 ],
 "metadata": {
  "language_info": {
   "name": "python"
  }
 },
 "nbformat": 4,
 "nbformat_minor": 2
}
