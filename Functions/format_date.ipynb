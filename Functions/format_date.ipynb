{
 "cells": [
  {
   "cell_type": "code",
   "execution_count": null,
   "metadata": {},
   "outputs": [],
   "source": [
    "import pandas as pd\n",
    "from datetime import datetime\n",
    "\n",
    "def format_date(date_str):\n",
    "    # Check if it's NaN or float first\n",
    "    if pd.isna(date_str) or isinstance(date_str, float):\n",
    "        return date_str  # Return NaN or float as-is\n",
    "    \n",
    "    # Convert to string and strip any whitespace\n",
    "    date_str = str(date_str).strip()\n",
    "    \n",
    "    # Try to parse the date assuming it's in the format '22/4/2024 15:43'\n",
    "    try:\n",
    "        date_obj = datetime.strptime(date_str, '%d/%m/%Y %H:%M')\n",
    "        formatted_date = date_obj.strftime('%d/%m/%Y')\n",
    "        return formatted_date\n",
    "    except ValueError:\n",
    "        pass\n",
    "    \n",
    "    # Try to parse the date assuming it's in the format '22/04/24'\n",
    "    try:\n",
    "        date_obj = datetime.strptime(date_str, '%d/%m/%y')\n",
    "        formatted_date = date_obj.strftime('%d/%m/%y')\n",
    "        return formatted_date\n",
    "    except ValueError:\n",
    "        pass\n",
    "    \n",
    "    # Try to parse the date assuming it's in the format '22/04/2024'\n",
    "    try:\n",
    "        date_obj = datetime.strptime(date_str, '%d/%m/%Y')\n",
    "        formatted_date = date_obj.strftime('%d/%m/%y')\n",
    "        return formatted_date\n",
    "    except ValueError:\n",
    "        pass\n",
    "\n",
    "    # If all parsing attempts fail, raise an error\n",
    "    raise ValueError(f\"Date string '{date_str}' is not in a recognized format.\")\n"
   ]
  }
 ],
 "metadata": {
  "language_info": {
   "name": "python"
  }
 },
 "nbformat": 4,
 "nbformat_minor": 2
}
