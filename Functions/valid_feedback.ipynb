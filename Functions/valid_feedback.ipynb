{
 "cells": [
  {
   "cell_type": "code",
   "execution_count": null,
   "metadata": {},
   "outputs": [],
   "source": [
    "import pandas as pd\n",
    "\n",
    "def is_valid_feedback(feedback):\n",
    "    if pd.isna(feedback):\n",
    "        return False\n",
    "    words = feedback.split()\n",
    "    return len(feedback) > 1 and len(words) > 2"
   ]
  }
 ],
 "metadata": {
  "language_info": {
   "name": "python"
  }
 },
 "nbformat": 4,
 "nbformat_minor": 2
}
